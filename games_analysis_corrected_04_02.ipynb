{
 "cells": [
  {
   "cell_type": "markdown",
   "id": "0ebe2fd4",
   "metadata": {},
   "source": [
    "<blockquote>\n",
    "    \n",
    "<b>Вадим, привет!</b>\n",
    "    \n",
    "Меня зовут Макаев Андрей, я буду ревьюером твоего проекта. Ты можешь обращаться ко мне на \"ты\" Надеюсь, тебя также не смутит, если я буду обращаться к тебе на \"ты\", но если это неудобно, обязательно скажи об этом!\n",
    "\n",
    "Пожалуйста, не удаляй мои комментарии, они будут особенно полезны для нашей работы в случае повторной проверки проекта.\n",
    "\n",
    "Ты также можешь реагировать на мои комментарии своими, выделяя их цветами и наиболее понравившимся тебе способом оформления, но явно отличающимся от моих комментариев. Это нужно, чтобы не создавалась путаница\n",
    "\n",
    "Можешь оформлять их так:\n",
    "\n",
    "<div class=\"alert alert-info\"> <b>Комментарий студента:</b> \n",
    "    \n",
    " </div>\n",
    "    \n",
    "Ты можешь найти мои комментарии, обозначенные <font color='green'>зеленым</font>, <font color='gold'>желтым</font> и <font color='red'>красным</font> цветами, например:\n",
    "\n",
    "<br/>\n",
    "\n",
    "<div class=\"alert alert-success\">\n",
    "<h2> Комментарий ревьюера <a class=\"tocSkip\"> </h2>\n",
    "\n",
    "<b>Все отлично!👍:</b> В случае, если решение на отдельном шаге является полностью правильным.\n",
    "</div>\n",
    "\n",
    "<br/>\n",
    "\n",
    "<div class=\"alert alert-warning\">\n",
    "<h2> Комментарий ревьюера <a class=\"tocSkip\"> </h2>\n",
    "\n",
    "<b>Некоторые замечания и рекомендации💡:</b> В случае, когда решение на отдельном шаге станет еще лучше, если внести небольшие коррективы.\n",
    "</div>\n",
    "\n",
    "\n",
    "<br/>\n",
    "<div class=\"alert alert-block alert-danger\">\n",
    "<h2> Комментарий ревьюера <a class=\"tocSkip\"></h2>\n",
    "\n",
    "\n",
    "<b>На доработку🤔:</b>\n",
    "В случае, когда решение на отдельном шаге требует существенной переработки и внесения правок. Напоминаю, что проект не может быть принят с первого раза, если ревью содержит комментарии, рекомендующие доработать шаги.\n",
    "</div>\n",
    "\n",
    "Увидев у тебя неточность, в первый раз я лишь укажу на ее наличие и дам тебе возможность самому найти и исправить ее. На реальной работе твой руководитель будет поступать также, и я пытаюсь подготовить тебя именно к работе аналитиком. Но если ты пока не справишься с такой задачей - при следующей проверке я дам более точную подсказку!\n",
    "</blockquote>"
   ]
  },
  {
   "cell_type": "markdown",
   "id": "7e4029c2",
   "metadata": {},
   "source": [
    "# **Сборный проект**"
   ]
  },
  {
   "cell_type": "markdown",
   "id": "fe59f7ec",
   "metadata": {},
   "source": [
    " Из открытых источников взяты исторические данные о продажах игр, оценки пользователей и экспертов, жанры и платформы. Данные представлены до 2016 года.\n",
    " \n",
    " Необходимо выявить определяющие успешность игры закономерности. Это позволит сделать ставку на потенциально популярный продукт и спланировать рекламные кампании.\n",
    " \n",
    " *Описание данных:*\n",
    "\n",
    "    Name — название игры\n",
    "    Platform — платформа\n",
    "    Year_of_Release — год выпуска\n",
    "    Genre — жанр игры\n",
    "    NA_sales — продажи в Северной Америке (миллионы проданных копий)\n",
    "    EU_sales — продажи в Европе (миллионы проданных копий)\n",
    "    JP_sales — продажи в Японии (миллионы проданных копий)\n",
    "    Other_sales — продажи в других странах (миллионы проданных копий)\n",
    "    Critic_Score — оценка критиков (максимум 100)\n",
    "    User_Score — оценка пользователей (максимум 10)\n",
    "    Rating — рейтинг от организации ESRB (англ. Entertainment Software Rating Board). Эта ассоциация определяет рейтинг компьютерных игр и присваивает им подходящую возрастную категорию."
   ]
  },
  {
   "cell_type": "markdown",
   "id": "9eb5ae89",
   "metadata": {},
   "source": [
    "<div class=\"alert alert-block alert-danger\">\n",
    "<h2> Комментарий ревьюера <a class=\"tocSkip\"></h2>\n",
    "\n",
    "\n",
    "<b>На доработку🤔:</b>\n",
    "\n",
    "Вступление станет лучше, если ты добавишь в него:\n",
    "\n",
    "\n",
    "краткое описание проекта,\n",
    "\n",
    "цель проекта,\n",
    "\n",
    "описание данных.\n",
    "\n",
    "Тогда получатель отчета сможет быстрей его понять.\n"
   ]
  },
  {
   "cell_type": "markdown",
   "id": "7d81cd61",
   "metadata": {
    "toc": true
   },
   "source": [
    "<h1>Table of Contents<span class=\"tocSkip\"></span></h1>\n",
    "<div class=\"toc\"><ul class=\"toc-item\"><li><span><a href=\"#Предобработка-данных\" data-toc-modified-id=\"Предобработка-данных-1\"><span class=\"toc-item-num\">1&nbsp;&nbsp;</span><strong>Предобработка данных</strong></a></span></li><li><span><a href=\"#Исследовательских-анализ-данных\" data-toc-modified-id=\"Исследовательских-анализ-данных-2\"><span class=\"toc-item-num\">2&nbsp;&nbsp;</span><strong>Исследовательских анализ данных</strong></a></span></li><li><span><a href=\"#Вывод\" data-toc-modified-id=\"Вывод-3\"><span class=\"toc-item-num\">3&nbsp;&nbsp;</span>Вывод</a></span></li></ul></div>"
   ]
  },
  {
   "cell_type": "markdown",
   "id": "d0fcffe1",
   "metadata": {},
   "source": [
    "## **Предобработка данных**"
   ]
  },
  {
   "cell_type": "code",
   "execution_count": 1,
   "id": "1e390033",
   "metadata": {},
   "outputs": [],
   "source": [
    "import pandas as pd\n",
    "import seaborn as sns\n",
    "import numpy as np\n",
    "import matplotlib.pyplot as plt\n",
    "from scipy import stats as st\n",
    "pd.set_option('display.max_rows', 10, 'display.max_columns', None)"
   ]
  },
  {
   "cell_type": "code",
   "execution_count": 2,
   "id": "a964c3a8",
   "metadata": {
    "scrolled": true
   },
   "outputs": [
    {
     "name": "stdout",
     "output_type": "stream",
     "text": [
      "<class 'pandas.core.frame.DataFrame'>\n",
      "RangeIndex: 16715 entries, 0 to 16714\n",
      "Data columns (total 11 columns):\n",
      " #   Column           Non-Null Count  Dtype  \n",
      "---  ------           --------------  -----  \n",
      " 0   Name             16713 non-null  object \n",
      " 1   Platform         16715 non-null  object \n",
      " 2   Year_of_Release  16446 non-null  float64\n",
      " 3   Genre            16713 non-null  object \n",
      " 4   NA_sales         16715 non-null  float64\n",
      " 5   EU_sales         16715 non-null  float64\n",
      " 6   JP_sales         16715 non-null  float64\n",
      " 7   Other_sales      16715 non-null  float64\n",
      " 8   Critic_Score     8137 non-null   float64\n",
      " 9   User_Score       10014 non-null  object \n",
      " 10  Rating           9949 non-null   object \n",
      "dtypes: float64(6), object(5)\n",
      "memory usage: 1.4+ MB\n"
     ]
    },
    {
     "data": {
      "text/html": [
       "<div>\n",
       "<style scoped>\n",
       "    .dataframe tbody tr th:only-of-type {\n",
       "        vertical-align: middle;\n",
       "    }\n",
       "\n",
       "    .dataframe tbody tr th {\n",
       "        vertical-align: top;\n",
       "    }\n",
       "\n",
       "    .dataframe thead th {\n",
       "        text-align: right;\n",
       "    }\n",
       "</style>\n",
       "<table border=\"1\" class=\"dataframe\">\n",
       "  <thead>\n",
       "    <tr style=\"text-align: right;\">\n",
       "      <th></th>\n",
       "      <th>Name</th>\n",
       "      <th>Platform</th>\n",
       "      <th>Year_of_Release</th>\n",
       "      <th>Genre</th>\n",
       "      <th>NA_sales</th>\n",
       "      <th>EU_sales</th>\n",
       "      <th>JP_sales</th>\n",
       "      <th>Other_sales</th>\n",
       "      <th>Critic_Score</th>\n",
       "      <th>User_Score</th>\n",
       "      <th>Rating</th>\n",
       "    </tr>\n",
       "  </thead>\n",
       "  <tbody>\n",
       "    <tr>\n",
       "      <th>0</th>\n",
       "      <td>Wii Sports</td>\n",
       "      <td>Wii</td>\n",
       "      <td>2006.0</td>\n",
       "      <td>Sports</td>\n",
       "      <td>41.36</td>\n",
       "      <td>28.96</td>\n",
       "      <td>3.77</td>\n",
       "      <td>8.45</td>\n",
       "      <td>76.0</td>\n",
       "      <td>8</td>\n",
       "      <td>E</td>\n",
       "    </tr>\n",
       "    <tr>\n",
       "      <th>1</th>\n",
       "      <td>Super Mario Bros.</td>\n",
       "      <td>NES</td>\n",
       "      <td>1985.0</td>\n",
       "      <td>Platform</td>\n",
       "      <td>29.08</td>\n",
       "      <td>3.58</td>\n",
       "      <td>6.81</td>\n",
       "      <td>0.77</td>\n",
       "      <td>NaN</td>\n",
       "      <td>NaN</td>\n",
       "      <td>NaN</td>\n",
       "    </tr>\n",
       "    <tr>\n",
       "      <th>2</th>\n",
       "      <td>Mario Kart Wii</td>\n",
       "      <td>Wii</td>\n",
       "      <td>2008.0</td>\n",
       "      <td>Racing</td>\n",
       "      <td>15.68</td>\n",
       "      <td>12.76</td>\n",
       "      <td>3.79</td>\n",
       "      <td>3.29</td>\n",
       "      <td>82.0</td>\n",
       "      <td>8.3</td>\n",
       "      <td>E</td>\n",
       "    </tr>\n",
       "    <tr>\n",
       "      <th>3</th>\n",
       "      <td>Wii Sports Resort</td>\n",
       "      <td>Wii</td>\n",
       "      <td>2009.0</td>\n",
       "      <td>Sports</td>\n",
       "      <td>15.61</td>\n",
       "      <td>10.93</td>\n",
       "      <td>3.28</td>\n",
       "      <td>2.95</td>\n",
       "      <td>80.0</td>\n",
       "      <td>8</td>\n",
       "      <td>E</td>\n",
       "    </tr>\n",
       "    <tr>\n",
       "      <th>4</th>\n",
       "      <td>Pokemon Red/Pokemon Blue</td>\n",
       "      <td>GB</td>\n",
       "      <td>1996.0</td>\n",
       "      <td>Role-Playing</td>\n",
       "      <td>11.27</td>\n",
       "      <td>8.89</td>\n",
       "      <td>10.22</td>\n",
       "      <td>1.00</td>\n",
       "      <td>NaN</td>\n",
       "      <td>NaN</td>\n",
       "      <td>NaN</td>\n",
       "    </tr>\n",
       "  </tbody>\n",
       "</table>\n",
       "</div>"
      ],
      "text/plain": [
       "                       Name Platform  Year_of_Release         Genre  NA_sales  \\\n",
       "0                Wii Sports      Wii           2006.0        Sports     41.36   \n",
       "1         Super Mario Bros.      NES           1985.0      Platform     29.08   \n",
       "2            Mario Kart Wii      Wii           2008.0        Racing     15.68   \n",
       "3         Wii Sports Resort      Wii           2009.0        Sports     15.61   \n",
       "4  Pokemon Red/Pokemon Blue       GB           1996.0  Role-Playing     11.27   \n",
       "\n",
       "   EU_sales  JP_sales  Other_sales  Critic_Score User_Score Rating  \n",
       "0     28.96      3.77         8.45          76.0          8      E  \n",
       "1      3.58      6.81         0.77           NaN        NaN    NaN  \n",
       "2     12.76      3.79         3.29          82.0        8.3      E  \n",
       "3     10.93      3.28         2.95          80.0          8      E  \n",
       "4      8.89     10.22         1.00           NaN        NaN    NaN  "
      ]
     },
     "execution_count": 2,
     "metadata": {},
     "output_type": "execute_result"
    }
   ],
   "source": [
    "try:\n",
    "    data = pd.read_csv('games.csv')\n",
    "except:\n",
    "    data = pd.read_csv('/datasets/games.csv')\n",
    "data.info()\n",
    "data.head()"
   ]
  },
  {
   "cell_type": "markdown",
   "id": "dde88363",
   "metadata": {},
   "source": [
    "<div class=\"alert alert-block alert-danger\">\n",
    "<h2> Комментарий ревьюера <a class=\"tocSkip\"></h2>\n",
    " \n",
    " \n",
    "<b>На доработку🤔:</b>\n",
    " \n",
    "Кажется, работа над проектов велась локально и пути к файлам не были изменены на общедоступные. Стоит переписать код таким образом, что бы он запускался и в jupiter hub, и локально без внесения дополнительных правок. Этого можно добиться многими способами. Например, использовать конструкцию try-except для путей файлов: try — пути на локальном компьютере, except — пути на сервере. Или применить библиотеку os:\n",
    "\timport os\n",
    "\tpth1 = '/folder_1/data.csv'\n",
    "\tpth2 = '/folder_2/data.csv'\n",
    " \n",
    "\tif os.path.exists(pth1):\n",
    "    \tquery_1 = pd.read_csv(pth1)\n",
    "\telif os.path.exists(pth2):\n",
    "    \tquery_1 = pd.read_csv(pth2)\n",
    "\telse:\n",
    "    \tprint('Something is wrong)\n",
    " \n",
    "Перед отправкой проекта стоит проверять работоспособность кода — это можно сделать, нажав на панели Jupiter Hub ``Kernel`` и ``Restart & Run All`` (см скриншот ниже).\n",
    "![](https://i.postimg.cc/yd19rYf6/Screenshot-428.png)\n",
    "</div>"
   ]
  },
  {
   "cell_type": "markdown",
   "id": "a36e699c",
   "metadata": {},
   "source": [
    "<div class=\"alert alert-info\"> <b>Комментарий студента:</b> \n",
    "    Исправил, буду учитывать в дальнейшем, спасибо!"
   ]
  },
  {
   "cell_type": "code",
   "execution_count": 7,
   "id": "a555bf06",
   "metadata": {},
   "outputs": [
    {
     "data": {
      "text/html": [
       "<div>\n",
       "<style scoped>\n",
       "    .dataframe tbody tr th:only-of-type {\n",
       "        vertical-align: middle;\n",
       "    }\n",
       "\n",
       "    .dataframe tbody tr th {\n",
       "        vertical-align: top;\n",
       "    }\n",
       "\n",
       "    .dataframe thead th {\n",
       "        text-align: right;\n",
       "    }\n",
       "</style>\n",
       "<table border=\"1\" class=\"dataframe\">\n",
       "  <thead>\n",
       "    <tr style=\"text-align: right;\">\n",
       "      <th></th>\n",
       "      <th>Name</th>\n",
       "      <th>Platform</th>\n",
       "      <th>Year_of_Release</th>\n",
       "      <th>Genre</th>\n",
       "      <th>NA_sales</th>\n",
       "      <th>EU_sales</th>\n",
       "      <th>JP_sales</th>\n",
       "      <th>Other_sales</th>\n",
       "      <th>Critic_Score</th>\n",
       "      <th>User_Score</th>\n",
       "      <th>Rating</th>\n",
       "    </tr>\n",
       "  </thead>\n",
       "  <tbody>\n",
       "    <tr>\n",
       "      <th>14244</th>\n",
       "      <td>NaN</td>\n",
       "      <td>GEN</td>\n",
       "      <td>1993.0</td>\n",
       "      <td>NaN</td>\n",
       "      <td>0.0</td>\n",
       "      <td>0.00</td>\n",
       "      <td>0.03</td>\n",
       "      <td>0.0</td>\n",
       "      <td>NaN</td>\n",
       "      <td>NaN</td>\n",
       "      <td>NaN</td>\n",
       "    </tr>\n",
       "    <tr>\n",
       "      <th>16230</th>\n",
       "      <td>Madden NFL 13</td>\n",
       "      <td>PS3</td>\n",
       "      <td>2012.0</td>\n",
       "      <td>Sports</td>\n",
       "      <td>0.0</td>\n",
       "      <td>0.01</td>\n",
       "      <td>0.00</td>\n",
       "      <td>0.0</td>\n",
       "      <td>83.0</td>\n",
       "      <td>5.5</td>\n",
       "      <td>E</td>\n",
       "    </tr>\n",
       "  </tbody>\n",
       "</table>\n",
       "</div>"
      ],
      "text/plain": [
       "                Name Platform  Year_of_Release   Genre  NA_sales  EU_sales  \\\n",
       "14244            NaN      GEN           1993.0     NaN       0.0      0.00   \n",
       "16230  Madden NFL 13      PS3           2012.0  Sports       0.0      0.01   \n",
       "\n",
       "       JP_sales  Other_sales  Critic_Score User_Score Rating  \n",
       "14244      0.03          0.0           NaN        NaN    NaN  \n",
       "16230      0.00          0.0          83.0        5.5      E  "
      ]
     },
     "execution_count": 7,
     "metadata": {},
     "output_type": "execute_result"
    }
   ],
   "source": [
    "data[data[['Name', 'Platform', 'Year_of_Release']].duplicated()]"
   ]
  },
  {
   "cell_type": "code",
   "execution_count": null,
   "id": "0bb71978",
   "metadata": {},
   "outputs": [],
   "source": [
    "#переименуем столбцы\n",
    "data.columns = data.columns.str.lower()"
   ]
  },
  {
   "cell_type": "markdown",
   "id": "3dd150a2",
   "metadata": {},
   "source": [
    "<div class=\"alert alert-success\">\n",
    "<h2> Комментарий ревьюера <a class=\"tocSkip\"> </h2>\n",
    "\n",
    "<b>Все отлично!👍:</b> "
   ]
  },
  {
   "cell_type": "code",
   "execution_count": null,
   "id": "b287911a",
   "metadata": {},
   "outputs": [],
   "source": [
    "#data['year_of_release'] = data['year_of_release'].astype('int')\n",
    "#data['user_score'] = data['user_score'].astype('float')\n",
    "#необходимо заполнить пропуски и отработать странные значение как \"tbd\" в столбце 'user_score' для перевода данных в нужный тип"
   ]
  },
  {
   "cell_type": "code",
   "execution_count": null,
   "id": "a02b84f1",
   "metadata": {},
   "outputs": [],
   "source": [
    "#удалим абсолютно пустые строки\n",
    "print(data.query('name.isna()'))\n",
    "data = data[data['name'].isna() != True]"
   ]
  },
  {
   "cell_type": "code",
   "execution_count": null,
   "id": "cf22ab0f",
   "metadata": {},
   "outputs": [],
   "source": [
    "data.query('critic_score.isna() and user_score.isna() and rating.isna()')\n",
    "#предположим, что рейтинги игры кореллируются с ее продажами\n",
    "non_null_data = data.query('not critic_score.isna() and not user_score.isna() and not rating.isna() and user_score != \"tbd\"')\n",
    "non_null_data\n",
    "#посмотрим на полностью заполненные данные и там где нет ТБД"
   ]
  },
  {
   "cell_type": "code",
   "execution_count": null,
   "id": "06e60ead",
   "metadata": {},
   "outputs": [],
   "source": [
    "non_null_data['user_score'] = non_null_data['user_score'].astype('float')\n",
    "non_null_data.corr()"
   ]
  },
  {
   "cell_type": "markdown",
   "id": "dab3ed5f",
   "metadata": {},
   "source": [
    "TBD значит \"To be determind\", значит рейтинг пока что не рассчитался. С продажами корелляция слабая, но оценки игроков и критиков кореллируются между собой. Хоть и присутствует средняя корелляция, заполнять пропуски будет некорректно, поэтому оставим как есть. Значение \"TBD\" заменим на пропуски для перевода столбца в тип float"
   ]
  },
  {
   "cell_type": "code",
   "execution_count": null,
   "id": "3c4d70fc",
   "metadata": {},
   "outputs": [],
   "source": [
    "#for i in data['critic_score'].unique():\n",
    " #   data.loc[(data['critic_score'] == i) & (data['user_score'] == 'tbd'), 'user_score'] = \\\n",
    "  #  data.loc[(data['critic_score'] == i) & (data['user_score'] != 'tbd'), 'user_score'].median()\n",
    "    \n",
    "#for i in data['critic_score'].unique():\n",
    " #   data.loc[(data['critic_score'] == i) & (data['user_score'].isna()), 'user_score'] = \\\n",
    "  #  data.loc[(data['critic_score'] == i), 'user_score'].median()\n",
    "    \n",
    "#for i in data['user_score'].unique():\n",
    " #   data.loc[(data['user_score'] == i) & (data['critic_score'].isna()), 'critic_score'] = \\\n",
    "  #  data.loc[(data['user_score'] == i), 'critic_score'].median()"
   ]
  },
  {
   "cell_type": "code",
   "execution_count": null,
   "id": "67b50cdf",
   "metadata": {},
   "outputs": [],
   "source": [
    "#data['critic_score'] = data['critic_score'].fillna(-1)\n",
    "#data['user_score'] = data['user_score'].fillna(-1)\n",
    "data['rating'] = data['rating'].fillna('Unknown')\n",
    "data.loc[data['user_score'] == 'tbd', 'user_score'] = np.NaN\n",
    "data = data.dropna(subset = ['year_of_release'])\n",
    "#удаляем и заполняем все пропуски после проведенного анализа.\n",
    "#пропущенные годы не восстановить, но их не так много, поэтому удалим"
   ]
  },
  {
   "cell_type": "code",
   "execution_count": null,
   "id": "b06abffa",
   "metadata": {},
   "outputs": [],
   "source": [
    "data['year_of_release'] = data['year_of_release'].astype('int')\n",
    "data['critic_score'] = pd.to_numeric(data['critic_score'], errors = 'ignore')\n",
    "data['user_score'] = pd.to_numeric(data['user_score'], errors = 'ignore')"
   ]
  },
  {
   "cell_type": "markdown",
   "id": "02e3ab8f",
   "metadata": {},
   "source": [
    "<div class=\"alert alert-block alert-danger\">\n",
    "<h2> Комментарий ревьюера <a class=\"tocSkip\"></h2>\n",
    "\n",
    "<b>На доработку🤔:</b>\n",
    "    \n",
    "Пропусков слишком много, чтобы их можно было восстановить, и даже несмотря на то, что между оценками критиков и пользователей есть средняя корреляция, такое заполнение корректным не будет.\n",
    "    \n",
    "Также, пропуски не стоит заполнять значением-заглушкой. У этого способа обработки пропусков есть минусы - тебе приходится за ними следить, чтобы они не попали в анализ при выполенении работы.\n",
    "    \n",
    "В случаях когда пропуски нельзя корректно заполнить, лучше пропуски оставлять пропусками, и использовать заглушки только тогда, когда методы, которыми ты пользуешься не могут работать с пропусками.\n",
    "    \n",
    "Пропуски в rating верно заполнены - этот признак категориальный, и в нём пропуски можно считать еще одной категорией. Только я бы посоветовал использовать более говорящее значение - Неизвестно, Unknown и т.п."
   ]
  },
  {
   "cell_type": "markdown",
   "id": "b19ebb53",
   "metadata": {},
   "source": [
    "<div class=\"alert alert-info\"> <b>Комментарий студента:</b> \n",
    "    От заглушек избавился, оставил пропуски. Пропуски в rating назвал нормально. Привел все к нужным типам\n",
    "    \n",
    "Но не могу понять, почему некорректно заполнить оценки критиков и оценки пользователей в зависимости друг от друга медианным значением там, где это возможно? Именно такой способ описывался в блоке обучения про заполнение пропусков количественными данными, и в целом выглядит вполне логично, что игра нравится как пользователеям, так и критикам, и наоборот. Все же таким способо заполняется лишь малая часть пропусков и не могу понять, почему это пойдет во вред, а не на пользу   \n",
    "    "
   ]
  },
  {
   "cell_type": "code",
   "execution_count": null,
   "id": "1f1d9c6e",
   "metadata": {
    "scrolled": true
   },
   "outputs": [],
   "source": [
    "data.info()"
   ]
  },
  {
   "cell_type": "markdown",
   "id": "4da98b0b",
   "metadata": {},
   "source": [
    "<div class=\"alert alert-success\">\n",
    "<h2> Комментарий ревьюера <a class=\"tocSkip\"> </h2>\n",
    "\n",
    "<b>Все отлично!👍:</b>"
   ]
  },
  {
   "cell_type": "code",
   "execution_count": null,
   "id": "21ff92c9",
   "metadata": {},
   "outputs": [],
   "source": [
    "data['total_sales'] = data[['na_sales','eu_sales','jp_sales', 'other_sales']].sum(axis = 1)\n",
    "data"
   ]
  },
  {
   "cell_type": "markdown",
   "id": "9348ac04",
   "metadata": {},
   "source": [
    "<div class=\"alert alert-success\">\n",
    "<h2> Комментарий ревьюера <a class=\"tocSkip\"> </h2>\n",
    "\n",
    "<b>Все отлично!👍:</b>\n",
    "    \n",
    "Общую сумму можно посчитать так:\n",
    "    \n",
    "       data['total_sales'] = data[['na_sales','eu_sales','jp_sales', 'other_sales']].sum(axis = 1)"
   ]
  },
  {
   "cell_type": "markdown",
   "id": "f651b0d4",
   "metadata": {},
   "source": [
    "<div class=\"alert alert-info\"> <b>Комментарий студента:</b> \n",
    "    Да, так куда лаконичнее, спасибо"
   ]
  },
  {
   "cell_type": "markdown",
   "id": "4d7282b0",
   "metadata": {},
   "source": [
    "## **Исследовательских анализ данных**"
   ]
  },
  {
   "cell_type": "markdown",
   "id": "ce555dfd",
   "metadata": {},
   "source": [
    "<div class=\"alert alert-block alert-danger\">\n",
    "<h2> Комментарий ревьюера <a class=\"tocSkip\"></h2>\n",
    "\n",
    "<b>На доработку🤔:</b>\n",
    "    \n",
    "Гистограмму лучше не использовать для таких графиков - столбики непонятно к какому году относятся, промежутки между ними разные. Она предназначена для других задач.\n",
    "    \n",
    "Тут лучше использовать столбчатую диаграмму(bar chart)\n",
    "    \n",
    "Сделать её легко, но для этого нужно сперва саггрегировать данные, например, чтобы показать количество:\n",
    "    \n",
    "    data.groupby('year_of_release')['name'].agg('count').reset_index() \\\n",
    "    .plot(kind = 'bar', \n",
    "          y = 'столбец Y',\n",
    "          x = 'столбец X',\n",
    "          ylabel = 'Подпись оси Y',\n",
    "          xlabel = 'Подпись оси Y', \n",
    "          figsize = (12,5)) \\\n",
    "    .set_title('Заголовок графика');"
   ]
  },
  {
   "cell_type": "markdown",
   "id": "a3aa9fa9",
   "metadata": {},
   "source": [
    "<div class=\"alert alert-info\"> <b>Комментарий студента:</b> \n",
    "    Так определенно лучше и понятнее, буду иметь ввиду в дальнейшей работе, спасибо!"
   ]
  },
  {
   "cell_type": "code",
   "execution_count": null,
   "id": "23dd96d9",
   "metadata": {},
   "outputs": [],
   "source": [
    "data.pivot_table(index = 'year_of_release', values = 'name', aggfunc = 'count').reset_index() \\\n",
    ".plot(kind = 'bar', \n",
    "      x = 'year_of_release', \n",
    "      y ='name', \n",
    "      xlabel = 'Год', \n",
    "      ylabel = 'Количество игр', \n",
    "      figsize = (12,5), \n",
    "      legend = None) \\\n",
    ".set_title('Динамика количества выпущенных игр по годам')\n",
    "plt.show()"
   ]
  },
  {
   "cell_type": "markdown",
   "id": "04b717ec",
   "metadata": {},
   "source": [
    "С 2005 по 2010 гг. наблюдается значительный подъем гейм-индустрии и достижение наибольших объемов производства игр. Вероятно, это связано с появлением консолей нового поколения таких как PS3 и XBox 360.\n",
    "\n",
    "Для нашего анализа логично взять период с 2013 г., когда прошел пик, спад и с подъема начался новый цикл"
   ]
  },
  {
   "cell_type": "code",
   "execution_count": null,
   "id": "d919b097",
   "metadata": {},
   "outputs": [],
   "source": [
    "df = []\n",
    "for platform in data['platform'].unique():\n",
    "    df.append({'platform' : platform, 'years' : data.loc[data['platform'] == platform, 'year_of_release'].max() \n",
    "    - data.loc[data['platform'] == platform, 'year_of_release'].min()})\n",
    "df = pd.DataFrame(df)\n",
    "df.sort_values(by = 'years', ascending = False)"
   ]
  },
  {
   "cell_type": "markdown",
   "id": "7cc92191",
   "metadata": {},
   "source": [
    "Посмотрим за какой характерный срок появляются новые и исчезают старые платформы. Можно сказать, что срок жизни достаточно успешной плафтормы составляет 5-10 лет. Чем она успешнее и чем дольше не будут появляться новые поколения или инновации конкурентов, тем дольше она просуществует. В случае же провала о ней будут помнить лишь пару лет. Исключения составляют лишь Nintendo DS и ПК. "
   ]
  },
  {
   "cell_type": "markdown",
   "id": "4dd5eabb",
   "metadata": {},
   "source": [
    "<div class=\"alert alert-success\">\n",
    "<h2> Комментарий ревьюера <a class=\"tocSkip\"> </h2>\n",
    "\n",
    "<b>Все отлично!👍:</b>"
   ]
  },
  {
   "cell_type": "code",
   "execution_count": null,
   "id": "2a5b6a04",
   "metadata": {},
   "outputs": [],
   "source": [
    "data.pivot_table(index = 'platform', values = 'total_sales', aggfunc = 'sum')\\\n",
    ".sort_values(by = 'total_sales', ascending = False).head(5)"
   ]
  },
  {
   "cell_type": "markdown",
   "id": "d1023b80",
   "metadata": {},
   "source": [
    "В принципе за все время больше всего продаж оказалось у PS2. Для нашего анализа это не особо актуально, тк это устаревшее поколение, но в целом это свидетельствует о популяности компании и лояльности к ней пользователей."
   ]
  },
  {
   "cell_type": "markdown",
   "id": "41576ed2",
   "metadata": {},
   "source": [
    "Посмотрим на продажи всех платформ за выбранный нами отчетный период"
   ]
  },
  {
   "cell_type": "code",
   "execution_count": null,
   "id": "76192690",
   "metadata": {
    "scrolled": true
   },
   "outputs": [],
   "source": [
    "data_new = data.query('year_of_release >= 2013')\n",
    "data_newest = data_new.pivot_table(index = 'platform', values = 'total_sales', \\\n",
    "                        aggfunc = ['sum','count','median']).reset_index()\n",
    "data_newest.columns = ['platform', 'sum','count','median']\n",
    "data_newest.sort_values(by = 'sum', ascending = False)\n",
    "#смотрим на продажи за последний период"
   ]
  },
  {
   "cell_type": "code",
   "execution_count": null,
   "id": "7868289c",
   "metadata": {},
   "outputs": [],
   "source": [
    "data_new.pivot_table(index = 'year_of_release', columns = 'platform', \\\n",
    "                     values = 'total_sales', aggfunc = 'sum') \\\n",
    "                        .plot(style='o-', grid = True, figsize = (15,5))\n",
    "plt.title('Динамика продаж игр по платформам с 2013 по 2016 гг.')\n",
    "plt.xlabel('Год')\n",
    "plt.ylabel('Проданных копий, млн')\n",
    "plt.show()\n",
    "#как сделать так, чтобы на оси Х были тольцо целые значения? "
   ]
  },
  {
   "cell_type": "markdown",
   "id": "d565022b",
   "metadata": {},
   "source": [
    "Исходя из построенных выше таблицы и графика необходимо скорректировать период выбранный для анализа. Все же рынок видеоигр развивается довольно быстро, и мы видим как старые поколения Playstation и Xbox уверенно сменяются новыми.\n",
    "\n",
    "Поэтому выберем 2015 г. началом отчетного периода. За последний год можно наблюдать у всех отрицательную динамику объема продаж, но все же заметными лидерами на рынке являются PS4, XOne и 3DS, по ним мы и будем проводить анализ, как у самых популярных для игроков."
   ]
  },
  {
   "cell_type": "markdown",
   "id": "de776830",
   "metadata": {},
   "source": [
    "<div class=\"alert alert-success\">\n",
    "<h2> Комментарий ревьюера <a class=\"tocSkip\"> </h2>\n",
    "\n",
    "<b>Все отлично!👍:</b>"
   ]
  },
  {
   "cell_type": "markdown",
   "id": "d74f8b90",
   "metadata": {},
   "source": [
    "<div class=\"alert alert-info\"> <b>Комментарий студента:</b> \n",
    "    Как сделать так, чтобы на оси Х были тольцо целые значения? "
   ]
  },
  {
   "cell_type": "code",
   "execution_count": null,
   "id": "87241998",
   "metadata": {},
   "outputs": [],
   "source": [
    "data_new.query('year_of_release >= 2015')\\\n",
    ".pivot_table(index = 'platform', values = 'total_sales', aggfunc = 'sum')\\\n",
    ".sort_values(by = 'total_sales', ascending = False).head()"
   ]
  },
  {
   "cell_type": "code",
   "execution_count": null,
   "id": "e91418cf",
   "metadata": {},
   "outputs": [],
   "source": [
    "data_new = data_new.query('year_of_release >= 2015')\n",
    "data_popular = data_new.query('platform == \"PS4\" or platform == \"XOne\" or platform == \"3DS\"')\n",
    "data_popular.boxplot(by = 'platform', column = 'total_sales', figsize = (5, 10))\n",
    "plt.title('«Ящик с усами» по глобальным продажам игр в разбивке по платформам')\n",
    "plt.xlabel('Платформа')\n",
    "plt.ylabel('Проданных копий, млн')\n",
    "data_popular.groupby('platform')['total_sales'].describe()"
   ]
  },
  {
   "cell_type": "code",
   "execution_count": null,
   "id": "fc424e2c",
   "metadata": {},
   "outputs": [],
   "source": [
    "data_popular.boxplot(by = 'platform', column = 'total_sales', figsize = (5, 5), showfliers=False)\n",
    "plt.title('«Ящик с усами» по глобальным продажам игр в разбивке по платформам без выбросов')\n",
    "plt.xlabel('Платформа')\n",
    "plt.ylabel('Проданных копий, млн')\n",
    "plt.show()"
   ]
  },
  {
   "cell_type": "markdown",
   "id": "69334a6c",
   "metadata": {},
   "source": [
    "<div class=\"alert alert-block alert-danger\">\n",
    "<h2> Комментарий ревьюера <a class=\"tocSkip\"></h2>\n",
    "\n",
    "<b>На доработку🤔:</b>\n",
    "    \n",
    "Сейчас ты показал только игры с продажами меньше 2 миллионов. Но, во-первых, ты это нигде не указываешь (и читатель вводится в заблуждение), а во-вторых выбросы тоже важно показать. Выбросы - это игры хиты, продажи которых для многих игровых компаний составляют значительную долю выручки.\n",
    "    \n",
    "Лучшим решением тут будет сперва показать ящики с усами по всем проданным играм, а затем добавить график без выбросов (или с ограничением по продажам, как сделано сейчас), чтобы можно было рассмотреть распределение внутри ящиков.\n",
    "    \n",
    "Отключить показ выбросов можно с помощью параметра showfliers=False"
   ]
  },
  {
   "cell_type": "markdown",
   "id": "17722dd9",
   "metadata": {},
   "source": [
    "<div class=\"alert alert-info\"> <b>Комментарий студента:</b> \n",
    "    Справиделиво, исправил"
   ]
  },
  {
   "cell_type": "code",
   "execution_count": null,
   "id": "fca626dd",
   "metadata": {},
   "outputs": [],
   "source": [
    "data_popular.pivot_table(index = 'platform',\\\n",
    "                         values = ['na_sales', 'eu_sales', 'jp_sales', 'other_sales', 'total_sales'],\\\n",
    "                         aggfunc = 'sum')"
   ]
  },
  {
   "cell_type": "markdown",
   "id": "0a38eaab",
   "metadata": {},
   "source": [
    "По количеству проданных игр однозначно лидирует PS4. Медианное значение количества проданных копий одной игры у PS4 немногим больше, чем у XOne. 3дс значительно уступает. У XOne самый большой межквартильный размах, что свидетельствует о том, что игры могут как оказаться крайне неприбыльными, так и значительно превысить медиану. У PS4 межквартильный размах довольно меньше, но куда больше количество аномальных выбросов. Выпускаются супер популярные игры продаваемые по всему миру. \n",
    "\n",
    "В Америке PS4 и XOne находятся примерно на одном уровне по объему продаж, в то время как в Европе большая часть игроков предпочитает PS4. В Японии популярнее всего 3DS, а XOne почти никто и не пользуется."
   ]
  },
  {
   "cell_type": "code",
   "execution_count": null,
   "id": "bda9ad30",
   "metadata": {},
   "outputs": [],
   "source": [
    "#data_scores = data_popular.query('critic_score >= 0 and user_score >=0')\n",
    "#for i in data_scores['platform'].unique():\n",
    "#    df = data_scores.query('platform == @i')\n",
    "#    print(i, 'Корелляция с отзывами критиков в Европе:', df['eu_sales'].corr(df['critic_score']))\n",
    "#    print(i, 'Корелляция с отзывами игроков в Европе:', df['eu_sales'].corr(df['user_score']))\n",
    "#    print(i, 'Корелляция с отзывами критиков в Америке:', df['na_sales'].corr(df['critic_score']))\n",
    "#    print(i, 'Корелляция с отзывами игроков в Америке:', df['na_sales'].corr(df['user_score']))\n",
    "#    print(i, 'Корелляция с отзывами критиков в Японии:', df['jp_sales'].corr(df['critic_score']))\n",
    "#    print(i, 'Корелляция с отзывами игроков в Японии:', df['jp_sales'].corr(df['user_score']))\n",
    "#    print(i, 'Корелляция с отзывами критиков в других странах:', df['other_sales'].corr(df['critic_score']))\n",
    "#    print(i, 'Корелляция с отзывами игроков в других странах:', df['other_sales'].corr(df['user_score']))\n"
   ]
  },
  {
   "cell_type": "markdown",
   "id": "3aa93607",
   "metadata": {},
   "source": [
    "<div class=\"alert alert-block alert-danger\">\n",
    "<h2> Комментарий ревьюера <a class=\"tocSkip\"></h2>\n",
    "\n",
    "<b>На доработку🤔:</b>\n",
    "    \n",
    "Лучше посчитать по общим продажам - детальный анализ, это здорово, но не всегда=) Сейчас довольно тяжело разбирать все эти цифры.\n",
    "    \n",
    "Также, в задании нужно сделать диаграммы рассеяния для каждой платформы, ты же ниже построил для всех, не разделяя их. То есть, тут надо показать сперва две диаграммы для одной платформы, с двумя коэффициентами корреляции (общих продаж и оценок критиков/пользователей), и потом сделать тоже самое для еще 2 платформ, и сравнить результаты."
   ]
  },
  {
   "cell_type": "markdown",
   "id": "36bf22fd",
   "metadata": {},
   "source": [
    "<div class=\"alert alert-info\"> <b>Комментарий студента:</b> \n",
    "    Точно, можно же сделать диаграммы рассеяния и все будет красиво и понятно)"
   ]
  },
  {
   "cell_type": "code",
   "execution_count": null,
   "id": "d0966b15",
   "metadata": {},
   "outputs": [],
   "source": [
    "data.query('platform == \"PS4\"') \\\n",
    ".plot(x = 'total_sales', \n",
    "      y = 'critic_score', \n",
    "      kind='scatter', \n",
    "      alpha = 0.3, \n",
    "      figsize=(4, 3), \n",
    "      grid=True,\n",
    "      xlabel = 'Проданный копий, млн',\n",
    "      ylabel = 'Оценка критиков').set_title('Корреляция между продажами и оценками критиков для PS4')\n",
    "plt.show()\n",
    "data.query('platform == \"PS4\"') \\\n",
    ".plot(x = 'total_sales', \n",
    "      y = 'user_score', \n",
    "      kind='scatter', \n",
    "      alpha = 0.3, \n",
    "      figsize=(4, 3), \n",
    "      grid=True,\n",
    "      xlabel = 'Проданный копий, млн',\n",
    "      ylabel = 'Оценка критиков').set_title('Корреляция между продажами и оценками пользователей для PS4')\n",
    "plt.show()"
   ]
  },
  {
   "cell_type": "code",
   "execution_count": null,
   "id": "f435ce90",
   "metadata": {},
   "outputs": [],
   "source": [
    "data.query('platform == \"XOne\"') \\\n",
    ".plot(x = 'total_sales', \n",
    "      y = 'critic_score', \n",
    "      kind='scatter', \n",
    "      alpha = 0.3, \n",
    "      figsize=(4, 3), \n",
    "      grid=True,\n",
    "      xlabel = 'Проданный копий, млн',\n",
    "      ylabel = 'Оценка критиков').set_title('Корреляция между продажами и оценками критиков для XOne')\n",
    "plt.show()\n",
    "data.query('platform == \"XOne\"') \\\n",
    ".plot(x = 'total_sales', \n",
    "      y = 'user_score', \n",
    "      kind='scatter', \n",
    "      alpha = 0.3, \n",
    "      figsize=(4, 3), \n",
    "      grid=True,\n",
    "      xlabel = 'Проданный копий, млн',\n",
    "      ylabel = 'Оценка критиков').set_title('Корреляция между продажами и оценками пользователей для XOne')\n",
    "plt.show()"
   ]
  },
  {
   "cell_type": "code",
   "execution_count": null,
   "id": "6d95b2c9",
   "metadata": {},
   "outputs": [],
   "source": [
    "data.query('platform == \"3DS\"') \\\n",
    ".plot(x = 'total_sales', \n",
    "      y = 'critic_score', \n",
    "      kind='scatter', \n",
    "      alpha = 0.3, \n",
    "      figsize=(4, 3), \n",
    "      grid=True,\n",
    "      xlabel = 'Проданный копий, млн',\n",
    "      ylabel = 'Оценка критиков').set_title('Корреляция между продажами и оценками критиков для 3DS')\n",
    "plt.show()\n",
    "data.query('platform == \"3DS\"') \\\n",
    ".plot(x = 'total_sales', \n",
    "      y = 'user_score', \n",
    "      kind='scatter', \n",
    "      alpha = 0.3, \n",
    "      figsize=(4, 3), \n",
    "      grid=True,\n",
    "      xlabel = 'Проданный копий, млн',\n",
    "      ylabel = 'Оценка критиков').set_title('Корреляция между продажами и оценками пользователей для 3DS')\n",
    "plt.show()"
   ]
  },
  {
   "cell_type": "markdown",
   "id": "6b9facc8",
   "metadata": {},
   "source": [
    "Для PS4 и XOne присутствует средняя прямая зависимость между оценками критиков и общими продажами. С оценками пользователей у данных платформ корреляция значительно меньше. Для 3DS одинаково небольшая корреляция как с отзывами критиков, так и с отзывами игроков\n"
   ]
  },
  {
   "cell_type": "code",
   "execution_count": null,
   "id": "5290c207",
   "metadata": {},
   "outputs": [],
   "source": [
    "#for i in data_scores['platform'].unique():\n",
    " #   df = data_scores.query('platform == @i')\n",
    " #   print(i, 'Корелляция с отзывами критиков:', df['total_sales'].corr(df['critic_score']))\n",
    "    "
   ]
  },
  {
   "cell_type": "markdown",
   "id": "8a507a2e",
   "metadata": {},
   "source": [
    "Посмотрим на самые прибыльные жанры. Для этого возьмем медианное значение продаж, чтобы игнорировать выбросы"
   ]
  },
  {
   "cell_type": "code",
   "execution_count": null,
   "id": "6093b573",
   "metadata": {},
   "outputs": [],
   "source": [
    "explode = [0.3,0.2,0.2,0.2,0.1,0.1,0.1,0.1,0.1,0.1,0.1,0.1]\n",
    "data_popular.pivot_table(index = 'genre', values = 'total_sales', aggfunc = 'median')\\\n",
    ".sort_values(by = 'total_sales', ascending = False)\\\n",
    ".plot(y= 'total_sales', \n",
    "      kind = 'pie', \n",
    "      radius = 1.8,\n",
    "      legend = None, \n",
    "      rotatelabels = True, \n",
    "      counterclock = True, \n",
    "      colors=plt.cm.Dark2.colors, \n",
    "      explode = explode,\n",
    "      autopct='%.2f%%')\n",
    "plt.ylabel(\"\")\n",
    "plt.show()"
   ]
  },
  {
   "cell_type": "markdown",
   "id": "98bb452f",
   "metadata": {},
   "source": [
    "Стабильно высокий доход чаще всего приносят шутеры. За ними примерно поровну разделяют рынок спортивные игры, ролевые и файтинги."
   ]
  },
  {
   "cell_type": "code",
   "execution_count": null,
   "id": "636cf9a9",
   "metadata": {},
   "outputs": [],
   "source": [
    "data_popular.pivot_table(index = ['platform', 'genre'], values = 'total_sales', aggfunc = 'median')\\\n",
    ".sort_values(by = 'total_sales', ascending = False).head(10)\n"
   ]
  },
  {
   "cell_type": "markdown",
   "id": "a7f9a7c3",
   "metadata": {},
   "source": [
    "<div class=\"alert alert-block alert-danger\">\n",
    "<h2> Комментарий ревьюера <a class=\"tocSkip\"></h2>\n",
    "\n",
    "<b>На доработку🤔:</b>\n",
    "\n",
    "Общие продажи - плохая метрика для поиска наиболее прибыльного жанра. За высокими показателями общих продаж может скрываться множество мелких игр с низкими продажами. Или 2-3 звезды и куча провалов. Лучше найти жанр, где игры стабильно приносят высокий доход - для этого стоит рассмотреть средние или медианные продажи."
   ]
  },
  {
   "cell_type": "markdown",
   "id": "9116b8cc",
   "metadata": {},
   "source": [
    "<div class=\"alert alert-info\"> <b>Комментарий студента:</b> \n",
    "    Исправил"
   ]
  },
  {
   "cell_type": "markdown",
   "id": "291b756e",
   "metadata": {},
   "source": [
    "На таблице выше можно видеть наиболее прибыльные платформы с наиболее прибыльными жанрами в ней. Шутеры на PS4 судя по всему должны принести больше всего денег. Также не стоит пренебрегать файтингами на XOne, спортивными играми на PS4 и ролевыми играми на XOne и 3DS\n",
    "\n",
    "Посмотрим на самые популярные платформы в каждом регионе"
   ]
  },
  {
   "cell_type": "code",
   "execution_count": null,
   "id": "e7f6641a",
   "metadata": {},
   "outputs": [],
   "source": [
    "explode = [0.1,0.1,0.1,0.1,0.1]\n",
    "data_new.pivot_table(index = 'platform', values = 'na_sales', aggfunc = 'sum')\\\n",
    ".sort_values(by = 'na_sales', ascending = False).head() \\\n",
    ".plot(kind = 'pie', \n",
    "      y = 'na_sales',\n",
    "      legend = None, \n",
    "      counterclock = True, \n",
    "      colors=plt.cm.Dark2.colors, \n",
    "      explode = explode,\n",
    "      autopct='%.2f%%')\n",
    "plt.xlabel(\"Популярность платформ в Америке\")\n",
    "plt.ylabel('')\n",
    "\n",
    "plt.show()\n",
    "\n",
    "data_new.pivot_table(index = 'platform', values = 'eu_sales', aggfunc = 'sum')\\\n",
    ".sort_values(by = 'eu_sales', ascending = False).head()\\\n",
    ".plot(kind = 'pie', \n",
    "      y = 'eu_sales',\n",
    "      legend = None, \n",
    "      counterclock = True, \n",
    "      colors=plt.cm.Dark2.colors, \n",
    "      explode = explode,\n",
    "      autopct='%.2f%%')\n",
    "plt.xlabel(\"Популярность платформ в Европе\")\n",
    "plt.ylabel('')\n",
    "\n",
    "plt.show()\n",
    "\n",
    "data_new.pivot_table(index = 'platform', values = 'jp_sales', aggfunc = 'sum')\\\n",
    ".sort_values(by = 'jp_sales', ascending = False).head()\\\n",
    ".plot(kind = 'pie', \n",
    "      y = 'jp_sales',\n",
    "      legend = None, \n",
    "      counterclock = True, \n",
    "      colors=plt.cm.Dark2.colors, \n",
    "      explode = explode,\n",
    "      autopct='%.2f%%')\n",
    "plt.xlabel(\"Популярность платформ в Японии\")\n",
    "plt.ylabel('')\n",
    "\n",
    "plt.show()"
   ]
  },
  {
   "cell_type": "markdown",
   "id": "441258da",
   "metadata": {},
   "source": [
    "В Америке продажи PS4 немногим опережают XOne, в то время как в Европе этот разрыв значительно больше, а в Японии больше всего приносят продажи 3DS, затем с небольшим отставанием PS4, а XOne совсем не пользуется популярностью\n",
    "\n",
    "Оценим популярность жанров в каждом регионе"
   ]
  },
  {
   "cell_type": "code",
   "execution_count": null,
   "id": "37f46ec0",
   "metadata": {},
   "outputs": [],
   "source": [
    "data_new.pivot_table(index = 'genre', values = 'na_sales', aggfunc = 'mean')\\\n",
    ".sort_values(by = 'na_sales', ascending = False).head()\\\n",
    ".plot(kind = 'pie', \n",
    "      y = 'na_sales',\n",
    "      legend = None, \n",
    "      counterclock = True, \n",
    "      colors=plt.cm.Dark2.colors, \n",
    "      explode = explode,\n",
    "      autopct='%.2f%%')\n",
    "plt.xlabel(\"Популярность жанров в Америке\")\n",
    "plt.ylabel('')\n",
    "\n",
    "plt.show()\n",
    "\n",
    "data_new.pivot_table(index = 'genre', values = 'eu_sales', aggfunc = 'mean')\\\n",
    ".sort_values(by = 'eu_sales', ascending = False).head()\\\n",
    ".plot(kind = 'pie', \n",
    "      y = 'eu_sales',\n",
    "      legend = None, \n",
    "      counterclock = True, \n",
    "      colors=plt.cm.Dark2.colors, \n",
    "      explode = explode,\n",
    "      autopct='%.2f%%')\n",
    "plt.xlabel(\"Популярность жанров в Европе\")\n",
    "plt.ylabel('')\n",
    "\n",
    "plt.show()\n",
    "\n",
    "data_new.pivot_table(index = 'genre', values = 'jp_sales', aggfunc = 'mean')\\\n",
    ".sort_values(by = 'jp_sales', ascending = False).head()\\\n",
    ".plot(kind = 'pie', \n",
    "      y = 'jp_sales',\n",
    "      legend = None, \n",
    "      counterclock = True, \n",
    "      colors=plt.cm.Dark2.colors, \n",
    "      explode = explode,\n",
    "      autopct='%.2f%%',\n",
    "    normalize=True)\n",
    "plt.xlabel(\"Популярность жанров в Японии\")\n",
    "plt.ylabel('')\n",
    "\n",
    "plt.show()"
   ]
  },
  {
   "cell_type": "markdown",
   "id": "397b6f95",
   "metadata": {},
   "source": [
    "Рынок Америки и Европы практически одинаковый, и распределение по жанрам как и в круговой диаграмме выше, а вот в Японии все индивидуально. В приоритете ролевые игры, паззлы, а за ними симуляторы, экшен и платформенные игры\n",
    "\n",
    "Посмотрим как влияет на продажи возрастной рейтинг от организации ESRB"
   ]
  },
  {
   "cell_type": "markdown",
   "id": "1710c6b6",
   "metadata": {},
   "source": [
    "<div class=\"alert alert-success\">\n",
    "<h2> Комментарий ревьюера <a class=\"tocSkip\"> </h2>\n",
    "\n",
    "<b>Все отлично!👍:</b>\n",
    "    \n",
    "Всё отлично, в качестве визуализации тут хорошо бы подошли круговые диаграммы, или столбчатые."
   ]
  },
  {
   "cell_type": "markdown",
   "id": "f53b837b",
   "metadata": {},
   "source": [
    "<div class=\"alert alert-info\"> <b>Комментарий студента:</b> \n",
    "    Добавил)"
   ]
  },
  {
   "cell_type": "code",
   "execution_count": null,
   "id": "f7057915",
   "metadata": {},
   "outputs": [],
   "source": [
    "data_rating = data.pivot_table(index = 'rating', \n",
    "                               values = ['na_sales', 'eu_sales', 'jp_sales'], \n",
    "                               aggfunc = 'sum').reset_index()\n",
    "\n",
    "column = ['na_sales', 'eu_sales', 'jp_sales']\n",
    "\n",
    "for col in column:\n",
    "    data_rating[col] /= data[col].sum()\n",
    "\n",
    "    \n",
    "data_rating.sort_values(by = 'na_sales', ascending = False) \\\n",
    ".plot(kind = 'bar',\n",
    "      x = 'rating',                    \n",
    "      y = 'na_sales', \n",
    "      xlabel = 'Категория рейтинга', \n",
    "      ylabel = 'Доля', \n",
    "      legend = None) \n",
    "plt.title('Распределение игр по возрастному рейтингу в Америке')\n",
    "\n",
    "plt.show()\n",
    "\n",
    "data_rating.sort_values(by = 'eu_sales', ascending = False) \\\n",
    ".plot(kind = 'bar',\n",
    "      x = 'rating',                    \n",
    "      y = 'eu_sales', \n",
    "      xlabel = 'Категория рейтинга', \n",
    "      ylabel = 'Доля', \n",
    "      legend = None) \n",
    "plt.title('Распределение игр по возрастному рейтингу в Европе')\n",
    "\n",
    "plt.show()\n",
    "\n",
    "data_rating.sort_values(by = 'jp_sales', ascending = False) \\\n",
    ".plot(kind = 'bar',\n",
    "      x = 'rating',                    \n",
    "      y = 'jp_sales', \n",
    "      xlabel = 'Категория рейтинга', \n",
    "      ylabel = 'Доля', \n",
    "      legend = None) \n",
    "plt.title('Распределение игр по возрастному рейтингу в Японии')\n",
    "\n",
    "plt.show()"
   ]
  },
  {
   "cell_type": "markdown",
   "id": "901203e7",
   "metadata": {},
   "source": [
    "В Европе и Америке определенно лидируют игры с рейтингом Е - для всех. В Японии больше всего игр без рейтинга"
   ]
  },
  {
   "cell_type": "markdown",
   "id": "6e3aad92",
   "metadata": {},
   "source": [
    "<div class=\"alert alert-block alert-danger\">\n",
    "<h2> Комментарий ревьюера <a class=\"tocSkip\"></h2>\n",
    "\n",
    "<b>На доработку🤔:</b>\n",
    "    \n",
    "Как я писал выше, в рейтинге стоит учитывать пропуски при анализе, считая их еще одной категорией. Включи их в анализ и можно будет заметить как изменятся таблицы=)\n",
    "    \n",
    "Изменить параметры только для одного случая можно с помощью менеджера контекста\n",
    "    \n",
    "    with pd.option_context('display.max_rows', None, 'display.max_columns', None):\n",
    "    display (df)"
   ]
  },
  {
   "cell_type": "markdown",
   "id": "f15d7389",
   "metadata": {},
   "source": [
    "<div class=\"alert alert-info\"> <b>Комментарий студента:</b> \n",
    "    Действительно) исправил."
   ]
  },
  {
   "cell_type": "markdown",
   "id": "f8510f82",
   "metadata": {},
   "source": [
    "Приступим к проверки гипотезу и сформулируем первую:\n",
    "\n",
    "H0: Средние пользовательские рейтинги платформ Xbox One и PC одинаковые\n",
    "\n",
    "H1: Средние пользовательские рейтинги платформ Xbox One и PC разные"
   ]
  },
  {
   "cell_type": "code",
   "execution_count": null,
   "id": "9c719ecd",
   "metadata": {},
   "outputs": [],
   "source": [
    "data_hypothesis = data_new.query('not critic_score.isna() and not user_score.isna()')\n",
    "\n",
    "sample_1 = data_hypothesis.loc[data_hypothesis['platform'] == \"PC\", 'user_score']\n",
    "sample_2 = data_hypothesis.loc[data_hypothesis['platform'] == \"XOne\", 'user_score']\n",
    "\n",
    "alpha = 0.05 \n",
    "\n",
    "results = st.ttest_ind(sample_1, sample_2)\n",
    "\n",
    "print('p-значение:', results.pvalue)\n",
    "if results.pvalue < alpha:\n",
    "    print('Отвергаем нулевую гипотезу')\n",
    "else:\n",
    "    print('Не получилось отвергнуть нулевую гипотезу') "
   ]
  },
  {
   "cell_type": "markdown",
   "id": "e7620408",
   "metadata": {},
   "source": [
    "<div class=\"alert alert-success\">\n",
    "<h2> Комментарий ревьюера <a class=\"tocSkip\"> </h2>\n",
    "\n",
    "<b>Все отлично!👍:</b>\n",
    "    \n",
    "Формулировка гипотез, проведение тестов, выводы - всё верно. "
   ]
  },
  {
   "cell_type": "markdown",
   "id": "f582c233",
   "metadata": {},
   "source": [
    "И вторую:\n",
    "\n",
    "H0: Средние пользовательские рейтинги жанров Action и Sports одинаковые \n",
    "\n",
    "H1: Средние пользовательские рейтинги жанров Action и Sports разные"
   ]
  },
  {
   "cell_type": "code",
   "execution_count": null,
   "id": "c698b128",
   "metadata": {},
   "outputs": [],
   "source": [
    "sample_1 = data_hypothesis.loc[data_hypothesis['genre'] == \"Action\", 'user_score']\n",
    "sample_2 = data_hypothesis.loc[data_hypothesis['genre'] == \"Sports\", 'user_score']\n",
    "\n",
    "alpha = 0.05 \n",
    "\n",
    "results = st.ttest_ind(sample_1, sample_2)\n",
    "\n",
    "print('p-значение:', results.pvalue)\n",
    "if results.pvalue < alpha:\n",
    "    print('Отвергаем нулевую гипотезу')\n",
    "else:\n",
    "    print('Не получилось отвергнуть нулевую гипотезу') "
   ]
  },
  {
   "cell_type": "markdown",
   "id": "cc4304ed",
   "metadata": {},
   "source": [
    "Мы проверили гипотезы тестом Стьюдента, т.к. у нас независимые генеральные совокупности с нормальным распределением.\n",
    "\n",
    "Не удалось отвергнуть гипотезу о равенстве средних пользовательских рейтингов платформ Xbox One и PC \n",
    "\n",
    "Но гипотезу о том, что средние пользовательских рейтингов жанров Action и Sports одинаковые, отвергнуть удалось"
   ]
  },
  {
   "cell_type": "markdown",
   "id": "564407bb",
   "metadata": {},
   "source": [
    "<div class=\"alert alert-block alert-danger\">\n",
    "<h2> Комментарий ревьюера <a class=\"tocSkip\"></h2>\n",
    "\n",
    "<b>На доработку🤔:</b>\n",
    "    \n",
    "Гипотезы сформулированы неверно - нулевая гипотеза всегда проверяет метрики на равенство. Ты их изменил, и поэтому пришлось также переделывать условие при котором опровергаешь нулевую гипотезу, что p-value> альфы.\n",
    "    \n",
    "Надо переделать по аналогии с первой гипотезой."
   ]
  },
  {
   "cell_type": "markdown",
   "id": "88b78d3a",
   "metadata": {},
   "source": [
    "<div class=\"alert alert-info\"> <b>Комментарий студента:</b> \n",
    "    Как-то даже не знал об этом и не задумывался. Так, конечно, логичнее, впредь буду иметь ввиду, спасибо"
   ]
  },
  {
   "cell_type": "markdown",
   "id": "c8b222c9",
   "metadata": {},
   "source": [
    "## Вывод"
   ]
  },
  {
   "cell_type": "markdown",
   "id": "fdbd7067",
   "metadata": {},
   "source": [
    "Мы проанализировали рынок гейм-индустрии и посмотрели на влияние различных факторов. В результате мы можем описать универсальную успешную игру, которая принесет много продаж по всему миру:\n",
    "\n",
    "1. Если наши покупатели не в Японии, то игра должна быть разработана для PS4, игра на XOne принесет немногим меньше прибыли. Для рынка в Японии игры на XOne неинтересны совсем, в приоритете консоль 3DS\n",
    "\n",
    "2. Больше всего прибыли принесут шутеры, чуть менее популярны спортивные игры, ролевые и файтинги (Япония исключение)\n",
    "\n",
    "3. Нельзя не пренебрегать рейтингами критиков, для некоторых игроков это становится важным фактором при покупке игры. А вот рейтинги пользователей с коммерческой точки зрения совсем неинтересны.\n",
    "\n",
    "4. И последний немаловажный пункт - возрастной рейтинг. В Европе и Америке наиболее интересны игры для всех с рейтингом Е, за ними идут игры без рейтинга, и нормальным спросом пользуются игры для подростков и взрослых. В Японии все снова наоборот, и большую часть рынка занимают игры без рейтинга\n",
    "\n"
   ]
  },
  {
   "cell_type": "markdown",
   "id": "3ddf0850",
   "metadata": {},
   "source": [
    "<div class=\"alert alert-success\">\n",
    "<h2> Комментарий ревьюера <a class=\"tocSkip\"> </h2>\n",
    "\n",
    "<b>Все отлично!👍:</b>\n",
    "    \n",
    "Отличные выводы."
   ]
  },
  {
   "cell_type": "markdown",
   "id": "a394a613",
   "metadata": {},
   "source": [
    "<blockquote>\n",
    "\n",
    "**Общий вывод по проекту**\n",
    "\n",
    "Спасибо за твой проект! Ты приложил много усилий, чтобы довести его до конца, проделана огромная работа, и это видно невооруженным глазом, ты большой молодец! Есть несколько важных моментов, которые я отметил и которые можно было бы улучшить, подсказки ты найдешь в моих комментариях.\n",
    " \n",
    "**Отмечу отдельные положительные моменты проекта**:\n",
    "* На разных шагах проекта ты предлагал очень интересные решения и методы для их реализации. Хорошая работа!\n",
    "* Очень подробные исследования на каждом шагу\n",
    "* На каждом шагу есть подробные выводы и наблюдения\n",
    "* Хорошая разнообразная визуализация\n",
    "\n",
    "**Что нужно исправить**\n",
    "* Добавить введение\n",
    "* Исправить чтение данных\n",
    "* Не заполнять пропуски в оценках и годах\n",
    "* Не использовать гистограммы в качестве столбчатых диаграмм.\n",
    "* Скорректировать анализ перспективных платформ\n",
    "* Добавить график ящиков с усами - первый сделать по всем проданным играм, а второй - с ограничением на продажи (или с отключенными выбросами)\n",
    "* Исправить анализ влияния оценок критиков и пользователей по платформам.\n",
    "* Скорректировать анализ выбора прибыльного жанра.\n",
    "* Исправить тест второй гипотезы\n",
    "\n",
    "   \n",
    "Если есть вопросы, я готов на них ответить.\n",
    "    \n",
    "Для будущего развития в плане визуализации советую обратить внимание на этот гайд по seaborn, библиотеке для визуализаци - примеры кода и графиков на русском\n",
    "https://nbviewer.org/urls/mipt-stats.gitlab.io/courses/python/09_seaborn.ipynb\n",
    "    \n",
    "**Желаю удачи и жду твой проект на повторное ревью!**\n",
    "</blockquote>"
   ]
  },
  {
   "cell_type": "markdown",
   "id": "e3156074",
   "metadata": {},
   "source": [
    "<div class=\"alert alert-info\"> <b>Комментарий студента:</b> \n",
    "    Спасибо за множество конструктивных комментариев и ответы на мои вопросы! Постарался все исправить, направляю на повторное ревью :)"
   ]
  }
 ],
 "metadata": {
  "ExecuteTimeLog": [
   {
    "duration": 1416,
    "start_time": "2023-02-02T15:42:16.961Z"
   },
   {
    "duration": 131,
    "start_time": "2023-02-02T15:42:18.756Z"
   }
  ],
  "kernelspec": {
   "display_name": "Python 3 (ipykernel)",
   "language": "python",
   "name": "python3"
  },
  "language_info": {
   "codemirror_mode": {
    "name": "ipython",
    "version": 3
   },
   "file_extension": ".py",
   "mimetype": "text/x-python",
   "name": "python",
   "nbconvert_exporter": "python",
   "pygments_lexer": "ipython3",
   "version": "3.9.13"
  },
  "toc": {
   "base_numbering": 1,
   "nav_menu": {},
   "number_sections": true,
   "sideBar": true,
   "skip_h1_title": true,
   "title_cell": "Table of Contents",
   "title_sidebar": "Contents",
   "toc_cell": true,
   "toc_position": {},
   "toc_section_display": true,
   "toc_window_display": false
  }
 },
 "nbformat": 4,
 "nbformat_minor": 5
}
